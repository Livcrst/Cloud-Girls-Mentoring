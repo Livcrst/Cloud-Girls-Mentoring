{
 "cells": [
  {
   "cell_type": "code",
   "execution_count": null,
   "metadata": {},
   "outputs": [],
   "source": []
  },
  {
   "cell_type": "markdown",
   "metadata": {},
   "source": [
    "Uma compreensão de lista é uma construção sintática disponível em algumas linguagens de programação para criação de uma lista baseada em listas existentes.\n",
    "Podemos criar uma lisita de valores de acordo com alguma operação que queiramos executar."
   ]
  },
  {
   "cell_type": "code",
   "execution_count": 2,
   "metadata": {},
   "outputs": [
    {
     "data": {
      "text/plain": [
       "[0, 1, 2, 3, 4, 5, 6, 7, 8, 9]"
      ]
     },
     "execution_count": 2,
     "metadata": {},
     "output_type": "execute_result"
    }
   ],
   "source": [
    "medias = [ nota for nota in range(10)]\n",
    "\n",
    "medias"
   ]
  },
  {
   "cell_type": "markdown",
   "metadata": {},
   "source": [
    "Dict comprehension {chave: valor for elemento in iteravel}"
   ]
  },
  {
   "cell_type": "markdown",
   "metadata": {},
   "source": [
    "Para tratamento de erros usamos o try and except, try é o fluxo normal e o except é executado quando há algo errado no meu bloco código principal (bloco try )\n",
    "\n",
    "try:\n",
    "    bloco de codigo principal (fluxo normal)\n",
    "except Exception as e:\n",
    "    bloco de codigo de tratamento de erros (fluxo com exceção)\n",
    "else:\n",
    "    Executa algo após o try não sendo erro. (fluxo após o fluxo normal)\n",
    "finally:\n",
    "    Executa algo após tudo (mesmo se entrar no except, try ou else)\n",
    "\n",
    "\n",
    "Criando as proprias exceções, para isso usamos a palavra Raise errorvalue e a mensagem que queremos (Levantar um erro)"
   ]
  }
 ],
 "metadata": {
  "kernelspec": {
   "display_name": "base",
   "language": "python",
   "name": "python3"
  },
  "language_info": {
   "codemirror_mode": {
    "name": "ipython",
    "version": 3
   },
   "file_extension": ".py",
   "mimetype": "text/x-python",
   "name": "python",
   "nbconvert_exporter": "python",
   "pygments_lexer": "ipython3",
   "version": "3.11.7"
  }
 },
 "nbformat": 4,
 "nbformat_minor": 2
}
